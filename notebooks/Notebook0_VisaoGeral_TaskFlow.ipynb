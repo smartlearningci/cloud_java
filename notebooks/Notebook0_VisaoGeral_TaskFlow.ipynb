{
 "cells": [
  {
   "cell_type": "markdown",
   "id": "ae3baf20",
   "metadata": {},
   "source": [
    "# 🧭 Notebook 0 — Visão Geral do Curso e Arquitetura Evolutiva do TaskFlow"
   ]
  },
  {
   "cell_type": "markdown",
   "id": "8d30d1b2",
   "metadata": {},
   "source": [
    "## 🎯 Objetivo do notebook\n",
    "Este notebook apresenta a **visão macro** do curso e do projeto **TaskFlow**, que será o fio condutor prático ao longo dos quatro módulos.\n",
    "\n",
    "Ao final, deverás compreender:\n",
    "- Como os módulos se encadeiam;\n",
    "- Como o projeto evolui por fases (F0 → F4);\n",
    "- Que ferramentas vamos utilizar e porquê."
   ]
  },
  {
   "cell_type": "markdown",
   "id": "f780ddd0",
   "metadata": {},
   "source": [
    "## 🧩 Objetivo geral da formação\n",
    "Desenvolver competências em **arquitetura Cloud Native com Java e Spring**, percorrendo o ciclo completo:\n",
    "> **conceção → desenvolvimento → empacotamento → deploy → operação segura e observável**\n",
    "\n",
    "Aplicação prática: **TaskFlow**, uma pequena API de gestão de tarefas de equipa."
   ]
  },
  {
   "cell_type": "markdown",
   "id": "9891badd",
   "metadata": {},
   "source": [
    "## 📚 Estrutura dos módulos\n",
    "\n",
    "| Módulo | Título | Foco principal | Entregável (artefacto) |\n",
    "|:--:|:--|:--|:--|\n",
    "| **I** | Introdução ao Cloud Native e Nivelamento | Fundamentos + API inicial + Gateway + Docker Compose | `tasks-service` + `gateway` |\n",
    "| **II** | Microsserviços com Java EE e Spring Boot | Configuração externa, descoberta e resiliência | Config Server + Resilience4j |\n",
    "| **III** | Contentores e Deploy na Cloud / On-prem | Deploy on-prem ou remoto + PostgreSQL + variáveis de ambiente | Stack completa com BD persistente |\n",
    "| **IV** | Boas Práticas, Segurança e Integração Contínua | IAM/JWT + Observabilidade + CI/CD | Pipeline automatizado + métricas e logs |\n",
    "\n",
    "> 🔁 **Duração total:** 16 h (4 módulos × 4 h)"
   ]
  },
  {
   "cell_type": "markdown",
   "id": "d7c1a90d",
   "metadata": {},
   "source": [
    "## 🗂️ Fio condutor: o projeto **TaskFlow**\n",
    "**Descrição:** aplicação leve para gerir tarefas de pequenos projetos.\n",
    "\n",
    "**MVP:** criar, listar e atualizar estado de tarefas (`TODO → DOING → DONE`).\n",
    "\n",
    "**Objetivo pedagógico:** demonstrar os padrões *cloud native* com máxima clareza e mínimo ruído."
   ]
  },
  {
   "cell_type": "markdown",
   "id": "8ad5bf85",
   "metadata": {},
   "source": [
    "## ⚙️ Fases de evolução do TaskFlow\n",
    "```mermaid\n",
    "flowchart LR\n",
    "  subgraph F0[\"Fase 0 — Hello API\"]\n",
    "    C0[Client] --> T0[tasks-service (H2)]\n",
    "  end\n",
    "\n",
    "  subgraph F1[\"Fase 1 — Gateway\"]\n",
    "    C1[Client] --> G1[Gateway]\n",
    "    G1 --> T1[tasks-service (H2)]\n",
    "  end\n",
    "\n",
    "  subgraph F2[\"Fase 2 — Config + Discovery + Resiliência\"]\n",
    "    C2[Client] --> G2[Gateway]\n",
    "    G2 -->|lb://tasks-service| T2[tasks-service]\n",
    "    G2 --> E2[Discovery (Eureka)]\n",
    "    G2 --> CFG2[Config Server]\n",
    "    T2 --> E2\n",
    "    T2 --> CFG2\n",
    "  end\n",
    "\n",
    "  subgraph F3[\"Fase 3 — Deploy (on-prem / cloud / híbrido)\"]\n",
    "    LB[Ingress/LB] --> GH[Gateway]\n",
    "    GH --> TS[tasks-service]\n",
    "    TS --> DB[(Postgres)]\n",
    "    GH --> CFG[Config]\n",
    "    GH --> EU[Discovery]\n",
    "  end\n",
    "\n",
    "  subgraph F4[\"Fase 4 — Segurança + Observabilidade + CI/CD\"]\n",
    "    C4[Client] --> GW[Gateway (auth, rate-limit, TLS)]\n",
    "    GW --> SVC[tasks-service]\n",
    "    SVC --> OBS[(Prom/Grafana, Zipkin/OTel, Logs)]\n",
    "    CICD[CI/CD] --> GW\n",
    "    CICD --> SVC\n",
    "  end\n",
    "```"
   ]
  },
  {
   "cell_type": "markdown",
   "id": "89eb863f",
   "metadata": {},
   "source": [
    "## 🔧 Tecnologias principais e respetivo papel\n",
    "\n",
    "| Tecnologia | Função no projeto |\n",
    "|:--|:--|\n",
    "| **Spring Boot** | Criação rápida de microsserviços e APIs REST |\n",
    "| **Spring Cloud Gateway** | Ponto único de entrada + autenticação simples |\n",
    "| **Spring Cloud Config** | Configuração centralizada por ambiente (Mód. II) |\n",
    "| **Resilience4j** | Circuit breaker e retries (Mód. II) |\n",
    "| **Docker / Docker Compose** | Empacotamento e orquestração local/on-prem |\n",
    "| **PostgreSQL** | Base de dados relacional persistente (Mód. III) |\n",
    "| **Prometheus / Grafana** | Métricas e observabilidade (Mód. IV) |\n",
    "| **Git** | Versionamento do código (tags `phase-0` → `phase-4`) |\n",
    "| **STS (Spring Tool Suite)** | IDE oficial para desenvolvimento e debug |\n",
    "| **Postman** | Testes funcionais das APIs (alternativa ao `curl`) |"
   ]
  },
  {
   "cell_type": "markdown",
   "id": "313fd50e",
   "metadata": {},
   "source": [
    "## 🧭 Como vamos trabalhar\n",
    "1. **Código base GitHub:** https://github.com/smartlearningci/cloud_java\n",
    "   - Cada fase tem uma *tag* (`phase-0`, `phase-1`, ...).\n",
    "2. **Ferramentas locais:**\n",
    "   - STS para desenvolver e testar serviços individualmente;\n",
    "   - Docker Compose (`run_compose.sh`) para integrar os serviços;\n",
    "   - Postman para testar endpoints.\n",
    "3. **Formato dos notebooks:**\n",
    "   - Explicação + execução passo-a-passo (“cola e corre”).\n",
    "   - Checkpoints no fim de cada notebook (sem quizzes).\n",
    "4. **Ambiente-alvo:**\n",
    "   - Inicialmente local/on-prem.\n",
    "   - Possibilidade futura de correr em Raspberry Pi como nó remoto de demonstração."
   ]
  },
  {
   "cell_type": "markdown",
   "id": "f3b7b857",
   "metadata": {},
   "source": [
    "## ✅ Checkpoints de compreensão\n",
    "- [ ] Compreendo as quatro fases de evolução (F0 → F4).\n",
    "- [ ] Sei o que será construído em cada módulo.\n",
    "- [ ] Identifico as principais ferramentas e o seu papel.\n",
    "- [ ] Entendo como os notebooks e o código Git se articulam."
   ]
  },
  {
   "cell_type": "markdown",
   "id": "3c458089",
   "metadata": {},
   "source": [
    "## 🧾 Próximos passos\n",
    "1. Abrir o **Notebook 1 — Cloud Native (Teoria) + Arquitetura de Referência**.\n",
    "2. Rever os princípios *cloud native* e o domínio funcional do TaskFlow.\n",
    "3. Preparar ambiente STS e Docker para começar o desenvolvimento da API."
   ]
  }
 ],
 "metadata": {},
 "nbformat": 4,
 "nbformat_minor": 5
}
