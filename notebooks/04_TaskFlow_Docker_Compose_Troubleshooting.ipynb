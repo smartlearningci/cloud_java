{
 "cells": [
  {
   "cell_type": "markdown",
   "id": "8c8b0c87",
   "metadata": {},
   "source": [
    "# 04 — TaskFlow: Docker Compose, Execução, Healthchecks e Troubleshooting\n",
    "\n",
    "**Objetivo:** correr **gateway + tasks-service** via **Docker Compose**, com *healthchecks* e guia de resolução de problemas."
   ]
  },
  {
   "cell_type": "markdown",
   "id": "38b7b6fc",
   "metadata": {},
   "source": [
    "## `docker-compose.yml` (trecho principal)\n",
    "\n",
    "```yaml\n",
    "services:\n",
    "  tasks-service:\n",
    "    build: ./tasks-service\n",
    "    ports: [\"8081:8081\"]\n",
    "    healthcheck:\n",
    "      test: [\"CMD\", \"wget\", \"-qO-\", \"http://localhost:8081/actuator/health\"]\n",
    "      interval: 10s\n",
    "      timeout: 3s\n",
    "      retries: 8\n",
    "\n",
    "  gateway:\n",
    "    build: ./gateway\n",
    "    ports: [\"8080:8080\"]\n",
    "    environment:\n",
    "      - TASKS_BASE_URL=http://tasks-service:8081\n",
    "    depends_on:\n",
    "      tasks-service:\n",
    "        condition: service_healthy\n",
    "    healthcheck:\n",
    "      test: [\"CMD\", \"wget\", \"-qO-\", \"http://localhost:8080/actuator/health\"]\n",
    "      interval: 10s\n",
    "      timeout: 3s\n",
    "      retries: 8\n",
    "```\n"
   ]
  },
  {
   "cell_type": "markdown",
   "id": "27b63a12",
   "metadata": {},
   "source": [
    "## Arrancar e testar\n",
    "\n",
    "```bash\n",
    "./run_compose.sh\n",
    "# ou\n",
    "docker compose up --build\n",
    "\n",
    "# testar via gateway\n",
    "curl -s http://localhost:8080/api/tasks | jq\n",
    "\n",
    "# direto ao serviço\n",
    "curl -s http://localhost:8081/tasks | jq\n",
    "```\n"
   ]
  },
  {
   "cell_type": "markdown",
   "id": "6bce1160",
   "metadata": {},
   "source": [
    "## Troubleshooting (erros reais que vimos)\n",
    "\n",
    "- **`UnknownHost tasks-service`** (no gateway): o gateway está fora do Docker a apontar para o hostname do Compose.  \n",
    "  ➜ usa `TASKS_BASE_URL=http://localhost:8081` (local) ou perfis/variável no compose.\n",
    "\n",
    "- **`no main manifest attribute`** ao iniciar o *container* do gateway: jar não foi *repackaged*.  \n",
    "  ➜ garante o `spring-boot-maven-plugin` com *goal* `repackage`; no Dockerfile copia o jar **sem** `.original`.\n",
    "\n",
    "- **404 Whitelabel**: estás a chamar `/api/tasks` no backend direto (8081).  \n",
    "  ➜ no backend usa `/tasks`; via gateway usa `/api/tasks`.\n",
    "\n",
    "- **Conflito MVC vs WebFlux**: gateway no classpath do backend.  \n",
    "  ➜ remove dependências do gateway do `tasks-service`; força `spring.main.web-application-type=servlet` se precisares.\n"
   ]
  },
  {
   "cell_type": "markdown",
   "id": "1e1cbf32",
   "metadata": {},
   "source": [
    "## Próxima etapa (teaser da Fase 2)\n",
    "- Introduzir **Spring Cloud Config** e **Eureka**, mantendo as rotas e só trocando o `uri` para `lb://tasks-service`.\n",
    "- Adicionar **Resilience4j** com *timeouts*, *retries* e *circuit breakers*.\n"
   ]
  }
 ],
 "metadata": {},
 "nbformat": 4,
 "nbformat_minor": 5
}
