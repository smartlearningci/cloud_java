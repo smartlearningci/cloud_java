{
 "cells": [
  {
   "cell_type": "markdown",
   "id": "25468233",
   "metadata": {},
   "source": [
    "# 03 — TaskFlow: API Gateway, Roteamento e Perfis (local vs docker)\n",
    "\n",
    "**Objetivo:** adicionar o **API Gateway** (Fase 1) e explicar como roteamos `/api/tasks/**` → `/tasks/**`, alternando entre **ambiente local** e **Docker Compose** sem editar ficheiros."
   ]
  },
  {
   "cell_type": "markdown",
   "id": "a9f9fa4d",
   "metadata": {},
   "source": [
    "## Dependências (Gateway)\n",
    "No `gateway/pom.xml` usar o artefacto **não deprecado**:\n",
    "\n",
    "```xml\n",
    "<dependency>\n",
    "  <groupId>org.springframework.cloud</groupId>\n",
    "  <artifactId>spring-cloud-starter-gateway-server-webflux</artifactId>\n",
    "</dependency>\n",
    "```\n"
   ]
  },
  {
   "cell_type": "markdown",
   "id": "fcfc5f89",
   "metadata": {},
   "source": [
    "## Configuração (chaves novas) e variável `TASKS_BASE_URL`\n",
    "\n",
    "`gateway/src/main/resources/application.yml`\n",
    "\n",
    "```yaml\n",
    "server:\n",
    "  port: 8080\n",
    "\n",
    "spring:\n",
    "  application:\n",
    "    name: gateway\n",
    "\n",
    "  cloud:\n",
    "    gateway:\n",
    "      server:\n",
    "        webflux:\n",
    "          routes:\n",
    "            - id: tasks\n",
    "              # falls back to localhost if env var is not defined\n",
    "              uri: \"${TASKS_BASE_URL:http://localhost:8081}\"\n",
    "              predicates:\n",
    "                - Path=/api/tasks/**\n",
    "              filters:\n",
    "                - StripPrefix=1\n",
    "          default-filters:\n",
    "            - DedupeResponseHeader=Access-Control-Allow-Credentials Access-Control-Allow-Origin\n",
    "```\n"
   ]
  },
  {
   "cell_type": "markdown",
   "id": "5833262a",
   "metadata": {},
   "source": [
    "## Alternar entre ambientes\n",
    "\n",
    "- **Local (STS)**: não definas `TASKS_BASE_URL` → usa `http://localhost:8081` (fallback).\n",
    "- **Docker Compose**: define no serviço `gateway`:\n",
    "```yaml\n",
    "environment:\n",
    "  - TASKS_BASE_URL=http://tasks-service:8081\n",
    "```\n",
    "\n",
    "### Ver rotas carregadas (diagnóstico)\n",
    "Ativa temporariamente no `application.yml` do gateway:\n",
    "```yaml\n",
    "management:\n",
    "  endpoints:\n",
    "    web:\n",
    "      exposure:\n",
    "        include: health,info,gateway\n",
    "  endpoint:\n",
    "    gateway:\n",
    "      enabled: true\n",
    "```\n",
    "Depois: `http://localhost:8080/actuator/gateway/routes`.\n"
   ]
  },
  {
   "cell_type": "markdown",
   "id": "eb1f184c",
   "metadata": {},
   "source": [
    "## Testes por *curl* (via Gateway)\n",
    "\n",
    "```bash\n",
    "# via gateway\n",
    "curl -s http://localhost:8080/api/tasks | jq\n",
    "\n",
    "# criar tarefa via gateway\n",
    "curl -s -H \"Content-Type: application/json\" \\\n",
    "  -d '{\"title\":\"Task via Gateway\",\"description\":\"demo\",\"projectId\":\"P1\",\"assignee\":\"Ana\"}' \\\n",
    "  http://localhost:8080/api/tasks | jq\n",
    "```\n",
    "\n",
    "> Dica: se te enganares e chamares `http://localhost:8081/api/tasks`, verás 404 (Whitelabel) — esse é o backend sem gateway.\n"
   ]
  }
 ],
 "metadata": {},
 "nbformat": 4,
 "nbformat_minor": 5
}
